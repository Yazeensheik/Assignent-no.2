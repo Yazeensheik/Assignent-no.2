{
 "cells": [
  {
   "cell_type": "markdown",
   "id": "6938f158",
   "metadata": {},
   "source": [
    "# ASSIGNMENT NO:2"
   ]
  },
  {
   "cell_type": "code",
   "execution_count": 1,
   "id": "3e31f446",
   "metadata": {},
   "outputs": [
    {
     "name": "stdout",
     "output_type": "stream",
     "text": [
      "   fruits  no.fruits\n",
      "0   apple          5\n",
      "1  grapes          7\n",
      "2   mango          6\n"
     ]
    }
   ],
   "source": [
    "import pandas as pd\n",
    "data ={'fruits': [\"apple\", \"grapes\", \"mango\"],'no.fruits': [5, 7, 6]}\n",
    "w = pd.DataFrame(data)\n",
    "print(w)"
   ]
  },
  {
   "cell_type": "code",
   "execution_count": 2,
   "id": "e689b643",
   "metadata": {},
   "outputs": [
    {
     "name": "stdout",
     "output_type": "stream",
     "text": [
      "This is base class.\n",
      "This is derived class.\n"
     ]
    }
   ],
   "source": [
    "class base:\n",
    "    def funca(s):\n",
    "        print(\"This is base class.\")\n",
    "class derived(base):\n",
    "    def funcb(s):\n",
    "        print(\"This is derived class.\")\n",
    "object = derived()\n",
    "object.funca()\n",
    "object.funcb()  "
   ]
  },
  {
   "cell_type": "code",
   "execution_count": 2,
   "id": "93d0b102",
   "metadata": {},
   "outputs": [
    {
     "name": "stdout",
     "output_type": "stream",
     "text": [
      "Father : SHEIK ABDULLAH\n",
      "Mother : ABITHA BEGUM\n"
     ]
    }
   ],
   "source": [
    "#multiple inheritance \n",
    "class Mother:\n",
    "    mname = \"\"\n",
    " \n",
    "    def m(self):\n",
    "        print(self.mothername)\n",
    "class Father:\n",
    "    fname = \"\"\n",
    " \n",
    "    def f(self):\n",
    "        print(self.fathername)\n",
    "class Son(Mother, Father):\n",
    "    def parents(self):\n",
    "        print(\"Father :\", self.fname)\n",
    "        print(\"Mother :\", self.mname)\n",
    "s1 = Son()\n",
    "s1.fname = \"SHEIK ABDULLAH\"\n",
    "s1.mname = \"ABITHA BEGUM\"\n",
    "s1.parents()"
   ]
  },
  {
   "cell_type": "code",
   "execution_count": 8,
   "id": "c1668e12",
   "metadata": {},
   "outputs": [
    {
     "name": "stdout",
     "output_type": "stream",
     "text": [
      "Roggers\n",
      "Grandfather name : Roggers\n",
      "Father name : Steve\n",
      "Son name : Dustin\n"
     ]
    }
   ],
   "source": [
    "#multilevel inheritance\n",
    "\n",
    "class Grandfather:\n",
    " \n",
    "    def __init__(self, gfathername):\n",
    "        self.gfathername = gfathername \n",
    "class Father(Grandfather):\n",
    "    def __init__(self, fname, gfathername):\n",
    "        self.fname = fname\n",
    "        Grandfather.__init__(self, gfathername)\n",
    "class Son(Father):\n",
    "    def __init__(self, son_name, fname, gfathername):\n",
    "        self.son_name = son_name\n",
    "        Father.__init__(self, fname, gfathername)\n",
    " \n",
    "    def print_name(self):\n",
    "        print('Grandfather name :', self.gfathername)\n",
    "        print(\"Father name :\", self.fname)\n",
    "        print(\"Son name :\", self.son_name)\n",
    " \n",
    "s1 = Son('Dustin','Steve', 'Roggers')\n",
    "print(s1.gfathername)\n",
    "s1.print_name()"
   ]
  },
  {
   "cell_type": "code",
   "execution_count": 9,
   "id": "f6b5a8ed",
   "metadata": {},
   "outputs": [
    {
     "name": "stdout",
     "output_type": "stream",
     "text": [
      "Original Array =  [0 2 3 0 1 6 5 2]\n",
      "Greater Than or Equal to 2 =  [ True  True False  True  True False False  True]\n"
     ]
    }
   ],
   "source": [
    "#lesser than or equal\n",
    "import numpy as np\n",
    " \n",
    "arr = np.array([0, 2, 3, 0, 1, 6, 5, 2])\n",
    "print('Original Array = ', arr)\n",
    "print('Greater Than or Equal to 2 = ', np.less_equal(arr, 2))"
   ]
  },
  {
   "cell_type": "code",
   "execution_count": 10,
   "id": "3601c417",
   "metadata": {},
   "outputs": [
    {
     "name": "stdout",
     "output_type": "stream",
     "text": [
      "Original Array =  [0 2 3 0 1 6 5 2]\n",
      "Greater Than or Equal to 2 =  [ True False False  True  True False False False]\n"
     ]
    }
   ],
   "source": [
    "#lesser than \n",
    "import numpy as np\n",
    "arr = np.array([0, 2, 3, 0, 1, 6, 5, 2])\n",
    "print('Original Array = ', arr)\n",
    "print('Greater Than or Equal to 2 = ', np.less(arr, 2))"
   ]
  },
  {
   "cell_type": "code",
   "execution_count": 11,
   "id": "68b1cd0a",
   "metadata": {},
   "outputs": [
    {
     "name": "stdout",
     "output_type": "stream",
     "text": [
      "Original Array =  [0 2 3 0 1 6 5 2]\n",
      "Greater Than or Equal to 4 =  [False False False False False  True  True False]\n"
     ]
    }
   ],
   "source": [
    "#greater than or equal to\n",
    "import numpy as np\n",
    " \n",
    "arr = np.array([0, 2, 3, 0, 1, 6, 5, 2])\n",
    "print('Original Array = ', arr)\n",
    "print('Greater Than or Equal to 4 = ', np.greater_equal(arr, 4))"
   ]
  },
  {
   "cell_type": "code",
   "execution_count": 12,
   "id": "b01937d6",
   "metadata": {},
   "outputs": [
    {
     "name": "stdout",
     "output_type": "stream",
     "text": [
      "Original Array =  [0 2 3 0 1 6 5 2]\n",
      "\n",
      "Greater Than 0 =  [False  True  True False  True  True  True  True]\n",
      "\n",
      "Greater Than 1 =  [False  True  True False False  True  True  True]\n",
      "\n",
      "Greater Than 2 =  [False False  True False False  True  True False]\n"
     ]
    }
   ],
   "source": [
    "#comparison using numpy\n",
    "# Python array greater\n",
    " \n",
    "import numpy as np\n",
    "\n",
    "x = np.array([0, 2, 3, 0, 1, 6, 5, 2])\n",
    "print('Original Array = ', x)\n",
    "print('\\nGreater Than 0 = ', np.greater(x, 0))\n",
    "print()\n",
    " \n",
    "print('Greater Than 1 = ', np.greater(x, 1))\n",
    "print()\n",
    " \n",
    "print('Greater Than 2 = ', np.greater(x, 2))"
   ]
  },
  {
   "cell_type": "code",
   "execution_count": 13,
   "id": "0eb2743f",
   "metadata": {},
   "outputs": [
    {
     "name": "stdout",
     "output_type": "stream",
     "text": [
      "Name:  gopi\n",
      "Roll:  1706256\n",
      "Branch:  ai&ds\n"
     ]
    }
   ],
   "source": [
    "#procted access modifiers \n",
    "class Student:\n",
    "\t_name = None\n",
    "\t_roll = None\n",
    "\t_branch = None\n",
    "\tdef __init__(self, name, roll, branch):\n",
    "\t\tself._name = name\n",
    "\t\tself._roll = roll\n",
    "\t\tself._branch = branch\n",
    "\tdef _displayRollAndBranch(self):\n",
    "\t\tprint(\"Roll: \", self._roll)\n",
    "\t\tprint(\"Branch: \", self._branch)\n",
    "class b(Student):\n",
    "\tdef __init__(self, name, roll, branch):\n",
    "\t\t\t\tStudent.__init__(self, name, roll, branch)\n",
    "\tdef displayDetails(self):\n",
    "\t\t\t\tprint(\"Name: \", self._name)\n",
    "            self._displayRollAndBranch()\n",
    "obj = b(\"gopi\", 1706256, \"ai&ds\")\n",
    "obj.displayDetails()"
   ]
  },
  {
   "cell_type": "code",
   "execution_count": 14,
   "id": "119b166d",
   "metadata": {},
   "outputs": [
    {
     "name": "stdout",
     "output_type": "stream",
     "text": [
      "Name:  ak\n",
      "Roll:  1336256\n",
      "Branch:  ai\n"
     ]
    }
   ],
   "source": [
    "#private access modifiers\n",
    "class c:\n",
    "\t__name = None\n",
    "\t__roll = None\n",
    "\t__branch = None\n",
    "\tdef __init__(self, name, roll, branch):\n",
    "\t\tself.__name = name\n",
    "\t\tself.__roll = roll\n",
    "\t\tself.__branch = branch\n",
    "\tdef __displayDetails(self):\n",
    "\t\tprint(\"Name: \", self.__name)\n",
    "\t\tprint(\"Roll: \", self.__roll)\n",
    "\t\tprint(\"Branch: \", self.__branch)\n",
    "\tdef accessPrivateFunction(self):\n",
    "\t\tself.__displayDetails()\n",
    "obj = c(\"ak\", 1336256, \"ai\")\n",
    "obj.accessPrivateFunction()"
   ]
  },
  {
   "cell_type": "code",
   "execution_count": 15,
   "id": "305596e4",
   "metadata": {},
   "outputs": [
    {
     "name": "stdout",
     "output_type": "stream",
     "text": [
      "Name:  RJ\n",
      "Age:  20\n"
     ]
    }
   ],
   "source": [
    "#access modifiers in python\n",
    "\n",
    "class a:\n",
    "\tdef __init__(self, name, age):\n",
    "\t\tself.Name = name\n",
    "\t\tself.Age = age\t\n",
    "\tdef displayAge(self):\n",
    "\t\tprint(\"Age: \", self.Age)\n",
    "\n",
    "\n",
    "obj = a(\"RJ\", 20)\n",
    "print(\"Name: \", obj.Name)\n",
    "obj.displayAge()"
   ]
  },
  {
   "cell_type": "code",
   "execution_count": 17,
   "id": "61dc09a1",
   "metadata": {},
   "outputs": [
    {
     "ename": "Exception",
     "evalue": "Sorry, no numbers below zero",
     "output_type": "error",
     "traceback": [
      "\u001b[1;31m---------------------------------------------------------------------------\u001b[0m",
      "\u001b[1;31mException\u001b[0m                                 Traceback (most recent call last)",
      "Input \u001b[1;32mIn [17]\u001b[0m, in \u001b[0;36m<cell line: 4>\u001b[1;34m()\u001b[0m\n\u001b[0;32m      2\u001b[0m x \u001b[38;5;241m=\u001b[39m \u001b[38;5;241m-\u001b[39m\u001b[38;5;241m1\u001b[39m\n\u001b[0;32m      4\u001b[0m \u001b[38;5;28;01mif\u001b[39;00m x \u001b[38;5;241m<\u001b[39m \u001b[38;5;241m0\u001b[39m:\n\u001b[1;32m----> 5\u001b[0m   \u001b[38;5;28;01mraise\u001b[39;00m \u001b[38;5;167;01mException\u001b[39;00m(\u001b[38;5;124m\"\u001b[39m\u001b[38;5;124mSorry, no numbers below zero\u001b[39m\u001b[38;5;124m\"\u001b[39m)\n",
      "\u001b[1;31mException\u001b[0m: Sorry, no numbers below zero"
     ]
    }
   ],
   "source": [
    "#raise error and exception\n",
    "x = -1\n",
    "\n",
    "if x < 0:\n",
    "  raise Exception(\"Sorry, no numbers below zero\")"
   ]
  },
  {
   "cell_type": "code",
   "execution_count": 18,
   "id": "a5ff57a3",
   "metadata": {},
   "outputs": [
    {
     "ename": "TypeError",
     "evalue": "Only integers are allowed",
     "output_type": "error",
     "traceback": [
      "\u001b[1;31m---------------------------------------------------------------------------\u001b[0m",
      "\u001b[1;31mTypeError\u001b[0m                                 Traceback (most recent call last)",
      "Input \u001b[1;32mIn [18]\u001b[0m, in \u001b[0;36m<cell line: 3>\u001b[1;34m()\u001b[0m\n\u001b[0;32m      2\u001b[0m x \u001b[38;5;241m=\u001b[39m \u001b[38;5;124m\"\u001b[39m\u001b[38;5;124mhello\u001b[39m\u001b[38;5;124m\"\u001b[39m \n\u001b[0;32m      3\u001b[0m \u001b[38;5;28;01mif\u001b[39;00m \u001b[38;5;129;01mnot\u001b[39;00m \u001b[38;5;28mtype\u001b[39m(x) \u001b[38;5;129;01mis\u001b[39;00m \u001b[38;5;28mint\u001b[39m:\n\u001b[1;32m----> 4\u001b[0m   \u001b[38;5;28;01mraise\u001b[39;00m \u001b[38;5;167;01mTypeError\u001b[39;00m(\u001b[38;5;124m\"\u001b[39m\u001b[38;5;124mOnly integers are allowed\u001b[39m\u001b[38;5;124m\"\u001b[39m)\n",
      "\u001b[1;31mTypeError\u001b[0m: Only integers are allowed"
     ]
    }
   ],
   "source": [
    "#error handling and raiseing error \n",
    "x = \"hello\" \n",
    "if not type(x) is int:\n",
    "  raise TypeError(\"Only integers are allowed\")"
   ]
  },
  {
   "cell_type": "code",
   "execution_count": 19,
   "id": "bbaa9f14",
   "metadata": {},
   "outputs": [
    {
     "name": "stdout",
     "output_type": "stream",
     "text": [
      "8.25\n"
     ]
    }
   ],
   "source": [
    "import numpy as np \n",
    "arr=np.array([[1,2,3,4,5],[6,7,8,9,10]])\n",
    "x=arr.var()\n",
    "print(x)"
   ]
  },
  {
   "cell_type": "code",
   "execution_count": 20,
   "id": "e20b4428",
   "metadata": {},
   "outputs": [
    {
     "name": "stdout",
     "output_type": "stream",
     "text": [
      "9\n"
     ]
    }
   ],
   "source": [
    "import numpy as np\n",
    "arr=np.array([[1,2,3,4,5],[6,7,8,9,10]])\n",
    "x=arr.argmax()\n",
    "print(x)"
   ]
  },
  {
   "cell_type": "code",
   "execution_count": 21,
   "id": "b8054542",
   "metadata": {},
   "outputs": [
    {
     "name": "stdout",
     "output_type": "stream",
     "text": [
      "0\n"
     ]
    }
   ],
   "source": [
    "import numpy as np \n",
    "arr=np.array([[1,2,3,4,5],[6,7,8,9,10]])\n",
    "x=arr.argmin()\n",
    "print(x)"
   ]
  },
  {
   "cell_type": "code",
   "execution_count": 22,
   "id": "96daa5cd",
   "metadata": {},
   "outputs": [
    {
     "name": "stdout",
     "output_type": "stream",
     "text": [
      "5.5\n"
     ]
    }
   ],
   "source": [
    "import numpy as np \n",
    "arr=np.array([[1,2,3,4,5],[6,7,8,9,10]])\n",
    "x=arr.mean()\n",
    "print(x)"
   ]
  },
  {
   "cell_type": "code",
   "execution_count": 23,
   "id": "1375c5d0",
   "metadata": {},
   "outputs": [
    {
     "name": "stdout",
     "output_type": "stream",
     "text": [
      "5.5\n"
     ]
    }
   ],
   "source": [
    "import numpy as np \n",
    "arr=np.array([[1,2,3,4,5],[6,7,8,9,10]])\n",
    "x=np.average(arr)\n",
    "print(x)"
   ]
  },
  {
   "cell_type": "code",
   "execution_count": 25,
   "id": "8b2c773a",
   "metadata": {},
   "outputs": [
    {
     "name": "stdout",
     "output_type": "stream",
     "text": [
      "10\n"
     ]
    }
   ],
   "source": [
    "import numpy as np \n",
    "arr=np.array([[1,2,3,4,5],[6,7,8,9,10]])\n",
    "x=arr.max()\n",
    "print(x)"
   ]
  },
  {
   "cell_type": "code",
   "execution_count": 26,
   "id": "ee18ea3e",
   "metadata": {},
   "outputs": [
    {
     "name": "stdout",
     "output_type": "stream",
     "text": [
      "55\n"
     ]
    }
   ],
   "source": [
    "#aggregate functions using numpy \n",
    "import numpy as np\n",
    "arr=np.array([[1,2,3,4,5],[6,7,8,9,10]])\n",
    "x=arr.sum()\n",
    "print(x)"
   ]
  },
  {
   "cell_type": "code",
   "execution_count": 40,
   "id": "79e6e354",
   "metadata": {},
   "outputs": [
    {
     "name": "stdout",
     "output_type": "stream",
     "text": [
      "a\n",
      "Learn Python \n"
     ]
    }
   ],
   "source": [
    "#indentation error\n",
    "try:\n",
    " print(\"a\")\n",
    " print(\"Learn Python \")\n",
    "except:\n",
    "    print('indentation error has occured')"
   ]
  },
  {
   "cell_type": "code",
   "execution_count": 28,
   "id": "d2ce0541",
   "metadata": {},
   "outputs": [
    {
     "name": "stdout",
     "output_type": "stream",
     "text": [
      "file error has occured\n"
     ]
    }
   ],
   "source": [
    "#file error\n",
    "try: \n",
    "   fp = open(\"test.txt\", \"r\")\n",
    "   if fp:\n",
    "       print(\"file is opened successfully\")\n",
    "except:\n",
    "    print('file error has occured')"
   ]
  },
  {
   "cell_type": "code",
   "execution_count": 33,
   "id": "f12cc40f",
   "metadata": {},
   "outputs": [
    {
     "name": "stdout",
     "output_type": "stream",
     "text": [
      "name error \n"
     ]
    }
   ],
   "source": [
    "#name error\n",
    "try:\n",
    "    print(y)\n",
    "except:\n",
    "    print('name error ')"
   ]
  },
  {
   "cell_type": "code",
   "execution_count": 35,
   "id": "b022436e",
   "metadata": {},
   "outputs": [
    {
     "name": "stdout",
     "output_type": "stream",
     "text": [
      "error inn division as zero cannot be a divisor\n"
     ]
    }
   ],
   "source": [
    "# 6 types of error handling zero divison error \n",
    "try:\n",
    "    a = 10\n",
    "    b = 0\n",
    "    c = a/b\n",
    "    print(\"The answer of a divide by b:\", c)\n",
    "except:\n",
    "    print(\"error inn division as zero cannot be a divisor\")"
   ]
  },
  {
   "cell_type": "code",
   "execution_count": 31,
   "id": "f55b04a2",
   "metadata": {},
   "outputs": [
    {
     "name": "stdout",
     "output_type": "stream",
     "text": [
      "This function is school.\n",
      "This function is student 1. \n"
     ]
    }
   ],
   "source": [
    "# hybrid inheritance\n",
    " \n",
    " \n",
    "class School:\n",
    "    def func1(self):\n",
    "        print(\"This function is school.\")\n",
    " \n",
    " \n",
    "class Student1(School):\n",
    "    def func2(self):\n",
    "        print(\"This function is student 1. \")\n",
    " \n",
    " \n",
    "class Student2(School):\n",
    "    def func3(self):\n",
    "        print(\"This function is student 2.\")\n",
    " \n",
    " \n",
    "class Student3(Student1, School):\n",
    "    def func4(self):\n",
    "        print(\"This function is student 3.\")\n",
    "object = Student3()\n",
    "object.func1()\n",
    "object.func2()"
   ]
  },
  {
   "cell_type": "code",
   "execution_count": 32,
   "id": "684a52a8",
   "metadata": {},
   "outputs": [
    {
     "name": "stdout",
     "output_type": "stream",
     "text": [
      "This function is parent class.\n",
      "This function is child 1.\n",
      "This function is parent class.\n",
      "This function is child 2.\n"
     ]
    }
   ],
   "source": [
    "#Hierarchical inheritance\n",
    "class Parent:\n",
    "    def func1(self):\n",
    "        print(\"This function is parent class.\") \n",
    "class Child1(Parent):\n",
    "    def func2(self):\n",
    "        print(\"This function is child 1.\")\n",
    "class Child2(Parent):\n",
    "    def func3(self):\n",
    "        print(\"This function is child 2.\")\n",
    "object1 = Child1()\n",
    "object2 = Child2()\n",
    "object1.func1()\n",
    "object1.func2()\n",
    "object2.func1()\n",
    "object2.func3()"
   ]
  },
  {
   "cell_type": "code",
   "execution_count": null,
   "id": "7afbe835",
   "metadata": {},
   "outputs": [],
   "source": []
  }
 ],
 "metadata": {
  "kernelspec": {
   "display_name": "Python 3 (ipykernel)",
   "language": "python",
   "name": "python3"
  },
  "language_info": {
   "codemirror_mode": {
    "name": "ipython",
    "version": 3
   },
   "file_extension": ".py",
   "mimetype": "text/x-python",
   "name": "python",
   "nbconvert_exporter": "python",
   "pygments_lexer": "ipython3",
   "version": "3.9.12"
  }
 },
 "nbformat": 4,
 "nbformat_minor": 5
}
